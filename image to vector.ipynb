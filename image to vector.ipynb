{
 "cells": [
  {
   "cell_type": "code",
   "execution_count": 1,
   "id": "5ee4d098",
   "metadata": {},
   "outputs": [
    {
     "name": "stdout",
     "output_type": "stream",
     "text": [
      "Requirement already satisfied: opencv-python in c:\\users\\sss\\anaconda3\\lib\\site-packages (4.6.0.66)\n",
      "Requirement already satisfied: numpy>=1.19.3 in c:\\users\\sss\\anaconda3\\lib\\site-packages (from opencv-python) (1.21.5)\n",
      "Note: you may need to restart the kernel to use updated packages.\n"
     ]
    }
   ],
   "source": [
    "pip install opencv-python"
   ]
  },
  {
   "cell_type": "code",
   "execution_count": 2,
   "id": "fa854038",
   "metadata": {},
   "outputs": [],
   "source": [
    "import cv2\n",
    "import numpy as np"
   ]
  },
  {
   "cell_type": "code",
   "execution_count": 4,
   "id": "77b508d2",
   "metadata": {},
   "outputs": [],
   "source": [
    "img=cv2.imread(r\"C:\\Users\\SSS\\Downloads\\download.jpg\")   # default colour space is RGB default 1,when0-grey scale"
   ]
  },
  {
   "cell_type": "markdown",
   "id": "2483a140",
   "metadata": {},
   "source": [
    "Above is color image"
   ]
  },
  {
   "cell_type": "code",
   "execution_count": 6,
   "id": "5991544a",
   "metadata": {},
   "outputs": [
    {
     "data": {
      "text/plain": [
       "(159, 106, 3)"
      ]
     },
     "execution_count": 6,
     "metadata": {},
     "output_type": "execute_result"
    }
   ],
   "source": [
    "img.shape"
   ]
  },
  {
   "cell_type": "code",
   "execution_count": 28,
   "id": "d436343b",
   "metadata": {},
   "outputs": [
    {
     "data": {
      "text/plain": [
       "array([[[ 0,  0,  0],\n",
       "        [ 0,  0,  0],\n",
       "        [ 0,  0,  0],\n",
       "        ...,\n",
       "        [ 0,  0,  0],\n",
       "        [ 0,  0,  0],\n",
       "        [ 0,  0,  0]],\n",
       "\n",
       "       [[ 0,  0,  0],\n",
       "        [ 0,  0,  0],\n",
       "        [ 0,  0,  0],\n",
       "        ...,\n",
       "        [ 0,  0,  0],\n",
       "        [ 0,  0,  0],\n",
       "        [ 0,  0,  0]],\n",
       "\n",
       "       [[ 0,  0,  0],\n",
       "        [ 0,  0,  0],\n",
       "        [ 0,  0,  0],\n",
       "        ...,\n",
       "        [ 0,  0,  0],\n",
       "        [ 0,  0,  0],\n",
       "        [ 0,  0,  0]],\n",
       "\n",
       "       ...,\n",
       "\n",
       "       [[ 0,  0,  0],\n",
       "        [ 0,  0,  0],\n",
       "        [ 0,  0,  0],\n",
       "        ...,\n",
       "        [15, 15, 15],\n",
       "        [12, 12, 12],\n",
       "        [12, 12, 12]],\n",
       "\n",
       "       [[ 0,  0,  0],\n",
       "        [ 0,  0,  0],\n",
       "        [ 0,  0,  0],\n",
       "        ...,\n",
       "        [10, 10, 10],\n",
       "        [ 8,  8,  8],\n",
       "        [ 8,  8,  8]],\n",
       "\n",
       "       [[ 0,  0,  0],\n",
       "        [ 0,  0,  0],\n",
       "        [ 0,  0,  0],\n",
       "        ...,\n",
       "        [ 8,  8,  8],\n",
       "        [ 7,  7,  7],\n",
       "        [ 7,  7,  7]]], dtype=uint8)"
      ]
     },
     "execution_count": 28,
     "metadata": {},
     "output_type": "execute_result"
    }
   ],
   "source": [
    "img"
   ]
  },
  {
   "cell_type": "code",
   "execution_count": 27,
   "id": "1da8dc06",
   "metadata": {},
   "outputs": [],
   "source": [
    "cv2.imshow(\"download\",img)\n",
    "cv2.waitKey(10000)\n",
    "cv2.destroyAllWindows()"
   ]
  },
  {
   "cell_type": "code",
   "execution_count": 10,
   "id": "6c1f3e7b",
   "metadata": {},
   "outputs": [
    {
     "data": {
      "text/plain": [
       "True"
      ]
     },
     "execution_count": 10,
     "metadata": {},
     "output_type": "execute_result"
    }
   ],
   "source": [
    "cv2.imwrite(r\"C:\\Users\\SSS\\Desktop\\New folder (2)\\1.jpg\",img)"
   ]
  },
  {
   "cell_type": "code",
   "execution_count": 17,
   "id": "0f563def",
   "metadata": {},
   "outputs": [],
   "source": [
    "img1=np.zeros((100,100),dtype=np.uint8)"
   ]
  },
  {
   "cell_type": "code",
   "execution_count": 18,
   "id": "911f85a8",
   "metadata": {},
   "outputs": [
    {
     "data": {
      "text/plain": [
       "array([[0, 0, 0, ..., 0, 0, 0],\n",
       "       [0, 0, 0, ..., 0, 0, 0],\n",
       "       [0, 0, 0, ..., 0, 0, 0],\n",
       "       ...,\n",
       "       [0, 0, 0, ..., 0, 0, 0],\n",
       "       [0, 0, 0, ..., 0, 0, 0],\n",
       "       [0, 0, 0, ..., 0, 0, 0]], dtype=uint8)"
      ]
     },
     "execution_count": 18,
     "metadata": {},
     "output_type": "execute_result"
    }
   ],
   "source": [
    "img1"
   ]
  },
  {
   "cell_type": "code",
   "execution_count": 19,
   "id": "04f90c2c",
   "metadata": {},
   "outputs": [],
   "source": [
    "cv2.imshow(\"black\",img1)\n",
    "cv2.waitKey(1000)\n",
    "cv2.destroyAllWindows()"
   ]
  },
  {
   "cell_type": "code",
   "execution_count": 20,
   "id": "03ec15f8",
   "metadata": {},
   "outputs": [],
   "source": [
    "img2=np.full((100,100),255,dtype=np.uint8)"
   ]
  },
  {
   "cell_type": "code",
   "execution_count": 26,
   "id": "a8a51759",
   "metadata": {},
   "outputs": [],
   "source": [
    "cv2.imshow(\"white\",img2)\n",
    "cv2.waitKey(10000)\n",
    "cv2.destroyAllWindows()"
   ]
  },
  {
   "cell_type": "code",
   "execution_count": 22,
   "id": "3601bf41",
   "metadata": {},
   "outputs": [
    {
     "data": {
      "text/plain": [
       "array([[255, 255, 255, ..., 255, 255, 255],\n",
       "       [255, 255, 255, ..., 255, 255, 255],\n",
       "       [255, 255, 255, ..., 255, 255, 255],\n",
       "       ...,\n",
       "       [255, 255, 255, ..., 255, 255, 255],\n",
       "       [255, 255, 255, ..., 255, 255, 255],\n",
       "       [255, 255, 255, ..., 255, 255, 255]], dtype=uint8)"
      ]
     },
     "execution_count": 22,
     "metadata": {},
     "output_type": "execute_result"
    }
   ],
   "source": [
    "img2"
   ]
  },
  {
   "cell_type": "code",
   "execution_count": 38,
   "id": "aaaa5428",
   "metadata": {},
   "outputs": [],
   "source": [
    "img3=cv2.imread(r\"C:\\Users\\SSS\\Downloads\\color.jpg\",0)"
   ]
  },
  {
   "cell_type": "code",
   "execution_count": 39,
   "id": "0f4ee51c",
   "metadata": {},
   "outputs": [
    {
     "data": {
      "text/plain": [
       "(129, 129)"
      ]
     },
     "execution_count": 39,
     "metadata": {},
     "output_type": "execute_result"
    }
   ],
   "source": [
    "img3.shape"
   ]
  },
  {
   "cell_type": "code",
   "execution_count": 40,
   "id": "32bb7d2e",
   "metadata": {},
   "outputs": [
    {
     "data": {
      "text/plain": [
       "204"
      ]
     },
     "execution_count": 40,
     "metadata": {},
     "output_type": "execute_result"
    }
   ],
   "source": [
    "img3[0,0]"
   ]
  },
  {
   "cell_type": "code",
   "execution_count": 41,
   "id": "84c022b5",
   "metadata": {},
   "outputs": [],
   "source": [
    "cv2.imshow(\"hghkk\",img3)\n",
    "cv2.waitKey(10000)\n",
    "cv2.destroyAllWindows()"
   ]
  },
  {
   "cell_type": "markdown",
   "id": "cb0b9882",
   "metadata": {},
   "source": [
    "RGB but store in BGR"
   ]
  },
  {
   "cell_type": "code",
   "execution_count": 43,
   "id": "1a72bba4",
   "metadata": {},
   "outputs": [],
   "source": [
    "img4=cv2.imread(r\"C:\\Users\\SSS\\Downloads\\color.jpg\",1)"
   ]
  },
  {
   "cell_type": "code",
   "execution_count": 44,
   "id": "0599e8d5",
   "metadata": {},
   "outputs": [],
   "source": [
    "im=cv2.cvtColor(img4,cv2.COLOR_BGR2HSV)"
   ]
  },
  {
   "cell_type": "code",
   "execution_count": 45,
   "id": "ad6c308b",
   "metadata": {},
   "outputs": [
    {
     "data": {
      "text/plain": [
       "array([170,  67, 247], dtype=uint8)"
      ]
     },
     "execution_count": 45,
     "metadata": {},
     "output_type": "execute_result"
    }
   ],
   "source": [
    "im[0,0]"
   ]
  },
  {
   "cell_type": "code",
   "execution_count": 46,
   "id": "eded613d",
   "metadata": {},
   "outputs": [
    {
     "data": {
      "text/plain": [
       "(129, 129, 3)"
      ]
     },
     "execution_count": 46,
     "metadata": {},
     "output_type": "execute_result"
    }
   ],
   "source": [
    "im.shape"
   ]
  },
  {
   "cell_type": "code",
   "execution_count": 48,
   "id": "70dcc9b5",
   "metadata": {},
   "outputs": [],
   "source": [
    "cv2.imshow(\"whfrr\",im)\n",
    "cv2.waitKey(10000)\n",
    "cv2.destroyAllWindows()"
   ]
  },
  {
   "cell_type": "code",
   "execution_count": 2,
   "id": "6bc870d8",
   "metadata": {},
   "outputs": [],
   "source": [
    "vi=cv2.VideoCapture(r\"C:\\Users\\SSS\\Downloads\\dipper_chicks_feeding_bird_songbird_962.mp4\")"
   ]
  },
  {
   "cell_type": "markdown",
   "id": "814ac990",
   "metadata": {},
   "source": [
    "vi-have video object(frame),have attribute read()\n",
    "waitkey always have -1 if u dont press key that'swhy waitkey(1)==ord(\"q\")"
   ]
  },
  {
   "cell_type": "code",
   "execution_count": 3,
   "id": "4093ad2b",
   "metadata": {},
   "outputs": [],
   "source": [
    "while True:\n",
    "    su,img=vi.read()\n",
    "    cv2.imshow(\"video\",img)\n",
    "    if cv2.waitKey(1)==ord(\"q\"):\n",
    "        break\n",
    "cv2.destroyAllWindows()        "
   ]
  },
  {
   "cell_type": "code",
   "execution_count": 3,
   "id": "9ca833e2",
   "metadata": {},
   "outputs": [
    {
     "name": "stdout",
     "output_type": "stream",
     "text": [
      "True\n",
      "True\n",
      "True\n",
      "True\n",
      "True\n",
      "True\n",
      "True\n",
      "True\n",
      "True\n",
      "True\n",
      "True\n",
      "True\n",
      "True\n",
      "True\n",
      "True\n",
      "True\n",
      "True\n",
      "True\n",
      "True\n",
      "True\n",
      "True\n",
      "True\n",
      "True\n",
      "True\n",
      "True\n",
      "True\n",
      "True\n",
      "True\n",
      "True\n",
      "True\n",
      "True\n",
      "True\n",
      "True\n",
      "True\n",
      "True\n",
      "True\n",
      "True\n",
      "True\n",
      "True\n",
      "True\n",
      "True\n",
      "True\n",
      "True\n",
      "True\n",
      "True\n",
      "True\n",
      "True\n",
      "True\n",
      "True\n",
      "True\n",
      "True\n",
      "True\n",
      "True\n",
      "True\n",
      "True\n",
      "True\n",
      "True\n",
      "True\n",
      "True\n",
      "True\n",
      "True\n",
      "True\n",
      "True\n",
      "True\n",
      "True\n",
      "True\n",
      "True\n",
      "True\n",
      "True\n",
      "True\n",
      "True\n",
      "True\n",
      "True\n",
      "True\n",
      "True\n",
      "True\n",
      "True\n",
      "True\n",
      "True\n",
      "True\n",
      "True\n",
      "True\n",
      "True\n",
      "True\n",
      "True\n",
      "True\n",
      "True\n",
      "True\n",
      "True\n",
      "True\n",
      "True\n",
      "True\n",
      "True\n",
      "True\n",
      "True\n",
      "True\n",
      "True\n",
      "True\n",
      "True\n",
      "True\n",
      "True\n",
      "True\n",
      "True\n",
      "True\n",
      "True\n",
      "True\n",
      "True\n",
      "True\n",
      "True\n",
      "True\n",
      "True\n",
      "True\n",
      "True\n",
      "True\n",
      "True\n",
      "True\n",
      "True\n",
      "True\n",
      "True\n",
      "True\n",
      "True\n",
      "True\n",
      "True\n",
      "True\n",
      "True\n",
      "True\n",
      "True\n",
      "True\n",
      "True\n",
      "True\n",
      "True\n",
      "True\n",
      "True\n",
      "True\n",
      "True\n",
      "True\n",
      "True\n",
      "True\n",
      "True\n",
      "True\n",
      "True\n",
      "True\n",
      "True\n",
      "True\n",
      "True\n",
      "True\n",
      "True\n",
      "True\n",
      "True\n",
      "True\n",
      "True\n",
      "True\n",
      "True\n",
      "True\n",
      "True\n",
      "True\n",
      "True\n",
      "True\n",
      "True\n",
      "True\n",
      "True\n",
      "True\n",
      "True\n",
      "True\n",
      "True\n",
      "True\n",
      "True\n",
      "True\n",
      "True\n",
      "True\n",
      "True\n",
      "True\n",
      "True\n",
      "True\n",
      "True\n",
      "True\n",
      "True\n",
      "True\n",
      "True\n",
      "True\n",
      "True\n",
      "True\n",
      "True\n",
      "True\n",
      "True\n",
      "True\n",
      "True\n",
      "True\n",
      "True\n",
      "True\n",
      "True\n",
      "True\n",
      "True\n",
      "True\n",
      "True\n",
      "True\n",
      "True\n",
      "True\n",
      "True\n",
      "True\n",
      "True\n",
      "True\n",
      "True\n",
      "True\n",
      "True\n",
      "True\n",
      "True\n",
      "True\n",
      "True\n",
      "True\n",
      "True\n",
      "True\n",
      "True\n",
      "True\n",
      "True\n",
      "True\n",
      "True\n",
      "True\n",
      "True\n",
      "True\n",
      "True\n",
      "True\n",
      "True\n",
      "True\n",
      "True\n",
      "True\n",
      "True\n",
      "True\n",
      "True\n",
      "True\n",
      "True\n",
      "True\n",
      "True\n",
      "True\n",
      "True\n",
      "True\n",
      "True\n",
      "True\n",
      "True\n",
      "True\n",
      "True\n",
      "True\n",
      "True\n",
      "True\n",
      "True\n",
      "True\n",
      "True\n",
      "True\n",
      "True\n",
      "True\n",
      "True\n",
      "True\n",
      "True\n",
      "True\n",
      "True\n",
      "True\n",
      "True\n",
      "True\n",
      "True\n",
      "True\n",
      "True\n",
      "True\n",
      "True\n",
      "True\n",
      "True\n",
      "True\n",
      "True\n",
      "True\n",
      "True\n",
      "True\n",
      "True\n",
      "True\n",
      "True\n",
      "True\n",
      "True\n",
      "True\n",
      "True\n",
      "True\n",
      "True\n",
      "True\n",
      "True\n",
      "True\n",
      "True\n",
      "True\n",
      "True\n",
      "True\n",
      "True\n",
      "True\n",
      "True\n",
      "True\n",
      "True\n",
      "True\n",
      "True\n",
      "True\n",
      "True\n",
      "True\n",
      "True\n",
      "True\n",
      "True\n",
      "True\n",
      "True\n",
      "True\n",
      "True\n",
      "True\n",
      "True\n",
      "True\n",
      "True\n",
      "True\n",
      "True\n",
      "True\n",
      "True\n",
      "True\n",
      "True\n",
      "True\n",
      "True\n",
      "True\n",
      "True\n",
      "True\n",
      "True\n",
      "True\n",
      "True\n",
      "True\n",
      "True\n",
      "True\n",
      "True\n",
      "True\n",
      "True\n",
      "True\n",
      "True\n",
      "True\n",
      "True\n",
      "True\n",
      "True\n",
      "True\n",
      "True\n",
      "True\n",
      "True\n",
      "True\n",
      "True\n",
      "True\n",
      "True\n",
      "True\n",
      "True\n",
      "True\n",
      "True\n",
      "True\n",
      "True\n",
      "True\n",
      "True\n",
      "True\n",
      "True\n",
      "True\n",
      "True\n",
      "True\n",
      "True\n",
      "True\n",
      "True\n",
      "True\n",
      "True\n",
      "True\n",
      "True\n",
      "True\n",
      "True\n",
      "True\n",
      "True\n",
      "True\n",
      "True\n",
      "True\n",
      "True\n",
      "True\n",
      "True\n",
      "True\n",
      "True\n",
      "True\n",
      "True\n",
      "True\n",
      "True\n",
      "True\n",
      "True\n",
      "True\n",
      "True\n",
      "True\n",
      "True\n",
      "True\n",
      "True\n",
      "True\n",
      "True\n",
      "True\n",
      "True\n",
      "True\n",
      "True\n",
      "True\n",
      "True\n",
      "True\n",
      "True\n",
      "True\n",
      "True\n",
      "True\n",
      "True\n",
      "True\n",
      "True\n"
     ]
    }
   ],
   "source": [
    "while True:\n",
    "    su,img=vi.read()\n",
    "    print(su)\n",
    "    cv2.imshow(\"video\",img)\n",
    "    if cv2.waitKey(1)==ord(\"q\"):\n",
    "        break\n",
    "cv2.destroyAllWindows()"
   ]
  },
  {
   "cell_type": "code",
   "execution_count": 2,
   "id": "bb303e48",
   "metadata": {},
   "outputs": [],
   "source": [
    "import os"
   ]
  },
  {
   "cell_type": "code",
   "execution_count": 3,
   "id": "b96cbdf3",
   "metadata": {},
   "outputs": [
    {
     "data": {
      "text/plain": [
       "'C:\\\\Users\\\\SSS'"
      ]
     },
     "execution_count": 3,
     "metadata": {},
     "output_type": "execute_result"
    }
   ],
   "source": [
    "os.getcwd()"
   ]
  },
  {
   "cell_type": "code",
   "execution_count": 4,
   "id": "1d1b440e",
   "metadata": {},
   "outputs": [],
   "source": [
    "os.chdir(r\"C:\\video nlp\")"
   ]
  },
  {
   "cell_type": "code",
   "execution_count": 5,
   "id": "756ce678",
   "metadata": {},
   "outputs": [
    {
     "data": {
      "text/plain": [
       "'C:\\\\video nlp'"
      ]
     },
     "execution_count": 5,
     "metadata": {},
     "output_type": "execute_result"
    }
   ],
   "source": [
    "os.getcwd()"
   ]
  },
  {
   "cell_type": "code",
   "execution_count": null,
   "id": "440c7260",
   "metadata": {},
   "outputs": [],
   "source": [
    "vid=cv2.VideoCapture(0)\n",
    "count=0\n",
    "while True:\n",
    "    count=count+1\n",
    "    su,img=vid.read()\n",
    "    if su==True:\n",
    "        cv2.imshow(\"video\",img)\n",
    "        cv2.imwrite(r\"C:\\video nlp\\{}.jpg\".format(count),img)\n",
    "\n",
    "    if cv2.waitKey(1)==ord(\"q\"):\n",
    "        break\n",
    "cv2.destroyAllWindows()"
   ]
  },
  {
   "cell_type": "code",
   "execution_count": null,
   "id": "7e7ddc23",
   "metadata": {},
   "outputs": [],
   "source": []
  },
  {
   "cell_type": "code",
   "execution_count": null,
   "id": "ce4bebb5",
   "metadata": {},
   "outputs": [],
   "source": [
    "for y in os.listdir():\n",
    "    cv2.imread(y)"
   ]
  },
  {
   "cell_type": "markdown",
   "id": "2aac5139",
   "metadata": {},
   "source": [
    "Image transformation\n"
   ]
  },
  {
   "cell_type": "code",
   "execution_count": 3,
   "id": "63eab2b0",
   "metadata": {},
   "outputs": [],
   "source": [
    "import cv2"
   ]
  },
  {
   "cell_type": "code",
   "execution_count": 20,
   "id": "8c4878fa",
   "metadata": {},
   "outputs": [],
   "source": [
    "img=cv2.imread(r\"C:\\Users\\SSS\\Downloads\\flower.jpg\")"
   ]
  },
  {
   "cell_type": "code",
   "execution_count": 21,
   "id": "170d0389",
   "metadata": {},
   "outputs": [
    {
     "data": {
      "text/plain": [
       "(238, 212, 3)"
      ]
     },
     "execution_count": 21,
     "metadata": {},
     "output_type": "execute_result"
    }
   ],
   "source": [
    "img.shape"
   ]
  },
  {
   "cell_type": "code",
   "execution_count": 22,
   "id": "81110db6",
   "metadata": {},
   "outputs": [
    {
     "data": {
      "text/plain": [
       "212"
      ]
     },
     "execution_count": 22,
     "metadata": {},
     "output_type": "execute_result"
    }
   ],
   "source": [
    "img.shape[1]"
   ]
  },
  {
   "cell_type": "code",
   "execution_count": 23,
   "id": "4d1c017c",
   "metadata": {},
   "outputs": [
    {
     "data": {
      "text/plain": [
       "106.0"
      ]
     },
     "execution_count": 23,
     "metadata": {},
     "output_type": "execute_result"
    }
   ],
   "source": [
    "img.shape[1]/2"
   ]
  },
  {
   "cell_type": "code",
   "execution_count": 24,
   "id": "3a4a2de1",
   "metadata": {},
   "outputs": [],
   "source": [
    "import numpy as np"
   ]
  },
  {
   "cell_type": "code",
   "execution_count": 35,
   "id": "7f16eb57",
   "metadata": {},
   "outputs": [],
   "source": [
    "t=np.array(([[1,0,img.shape[1]/4],[1,0,img.shape[0]/4]]))  # shift in both x and y axis"
   ]
  },
  {
   "cell_type": "code",
   "execution_count": 36,
   "id": "8a437f42",
   "metadata": {},
   "outputs": [],
   "source": [
    "imgt=cv2.warpAffine(img,t,img.shape[0:2])"
   ]
  },
  {
   "cell_type": "code",
   "execution_count": 37,
   "id": "3d087dd1",
   "metadata": {},
   "outputs": [],
   "source": [
    "cv2.imshow(\"whfr\",imgt)\n",
    "cv2.waitKey(10000)\n",
    "cv2.destroyAllWindows()"
   ]
  },
  {
   "cell_type": "code",
   "execution_count": 38,
   "id": "7dfd9741",
   "metadata": {},
   "outputs": [],
   "source": [
    "tr=np.array(([[1,0,img.shape[1]/4],[1,0,0]])) # shift in x axis"
   ]
  },
  {
   "cell_type": "code",
   "execution_count": 39,
   "id": "6319fcf4",
   "metadata": {},
   "outputs": [],
   "source": [
    "imgtr=cv2.warpAffine(img,tr,img.shape[0:2])"
   ]
  },
  {
   "cell_type": "code",
   "execution_count": 40,
   "id": "15e542a4",
   "metadata": {},
   "outputs": [],
   "source": [
    "cv2.imshow(\"whfr\",imgtr)\n",
    "cv2.waitKey(10000)\n",
    "cv2.destroyAllWindows()"
   ]
  },
  {
   "cell_type": "code",
   "execution_count": 41,
   "id": "de6012bd",
   "metadata": {},
   "outputs": [],
   "source": [
    "trs=np.array(([[1,0,0],[1,0,img.shape[0]/6]])) # shift in y axis"
   ]
  },
  {
   "cell_type": "code",
   "execution_count": 42,
   "id": "89cb2b5a",
   "metadata": {},
   "outputs": [],
   "source": [
    "imgtrs=cv2.warpAffine(img,trs,img.shape[0:2])"
   ]
  },
  {
   "cell_type": "code",
   "execution_count": 43,
   "id": "951c33f6",
   "metadata": {},
   "outputs": [],
   "source": [
    "cv2.imshow(\"whfr\",imgtrs)\n",
    "cv2.waitKey(10000)\n",
    "cv2.destroyAllWindows()"
   ]
  },
  {
   "cell_type": "markdown",
   "id": "ddbaa6ec",
   "metadata": {},
   "source": [
    "Rotation"
   ]
  },
  {
   "cell_type": "code",
   "execution_count": 44,
   "id": "3eea367e",
   "metadata": {},
   "outputs": [
    {
     "data": {
      "text/plain": [
       "119.0"
      ]
     },
     "execution_count": 44,
     "metadata": {},
     "output_type": "execute_result"
    }
   ],
   "source": [
    "img.shape[1]/2\n",
    "img.shape[0]/2"
   ]
  },
  {
   "cell_type": "code",
   "execution_count": 45,
   "id": "af553b98",
   "metadata": {},
   "outputs": [],
   "source": [
    "rt=cv2.getRotationMatrix2D((img.shape[0]/2,img.shape[1]/2),180,0.5)  # rotate in 180 degree,\n",
    "#scaling default-1,0.5-scaling down"
   ]
  },
  {
   "cell_type": "code",
   "execution_count": 46,
   "id": "dec19592",
   "metadata": {},
   "outputs": [],
   "source": [
    "ims=cv2.warpAffine(img,rt,img.shape[0:2])"
   ]
  },
  {
   "cell_type": "code",
   "execution_count": 47,
   "id": "06a26e5d",
   "metadata": {},
   "outputs": [],
   "source": [
    "cv2.imshow(\"whfr\",ims)\n",
    "cv2.waitKey(10000)\n",
    "cv2.destroyAllWindows()"
   ]
  },
  {
   "cell_type": "code",
   "execution_count": 48,
   "id": "cde968eb",
   "metadata": {},
   "outputs": [
    {
     "data": {
      "text/plain": [
       "(238, 212, 3)"
      ]
     },
     "execution_count": 48,
     "metadata": {},
     "output_type": "execute_result"
    }
   ],
   "source": [
    "img.shape"
   ]
  },
  {
   "cell_type": "code",
   "execution_count": 50,
   "id": "f28739b6",
   "metadata": {},
   "outputs": [],
   "source": [
    "im1=cv2.resize(img,(200,200))"
   ]
  },
  {
   "cell_type": "code",
   "execution_count": 51,
   "id": "d4de8b81",
   "metadata": {},
   "outputs": [
    {
     "data": {
      "text/plain": [
       "(200, 200, 3)"
      ]
     },
     "execution_count": 51,
     "metadata": {},
     "output_type": "execute_result"
    }
   ],
   "source": [
    "im1.shape"
   ]
  },
  {
   "cell_type": "code",
   "execution_count": 52,
   "id": "f4c84108",
   "metadata": {},
   "outputs": [],
   "source": [
    "cv2.imshow(\"whfr\",im1)\n",
    "cv2.waitKey(10000)\n",
    "cv2.destroyAllWindows()"
   ]
  },
  {
   "cell_type": "code",
   "execution_count": null,
   "id": "880f7973",
   "metadata": {},
   "outputs": [],
   "source": [
    "# cropping"
   ]
  },
  {
   "cell_type": "code",
   "execution_count": 95,
   "id": "46540a41",
   "metadata": {},
   "outputs": [
    {
     "data": {
      "text/plain": [
       "array([[[252, 207, 140],\n",
       "        [252, 207, 140],\n",
       "        [252, 207, 140],\n",
       "        ...,\n",
       "        [252, 207, 140],\n",
       "        [252, 207, 140],\n",
       "        [252, 207, 140]],\n",
       "\n",
       "       [[252, 207, 140],\n",
       "        [252, 207, 140],\n",
       "        [252, 207, 140],\n",
       "        ...,\n",
       "        [252, 207, 140],\n",
       "        [252, 207, 140],\n",
       "        [252, 207, 140]],\n",
       "\n",
       "       [[252, 207, 140],\n",
       "        [252, 207, 140],\n",
       "        [252, 207, 140],\n",
       "        ...,\n",
       "        [252, 207, 140],\n",
       "        [252, 207, 140],\n",
       "        [252, 207, 140]],\n",
       "\n",
       "       ...,\n",
       "\n",
       "       [[252, 204, 146],\n",
       "        [254, 205, 143],\n",
       "        [255, 206, 140],\n",
       "        ...,\n",
       "        [239, 200, 138],\n",
       "        [249, 217, 164],\n",
       "        [248, 215, 170]],\n",
       "\n",
       "       [[254, 204, 146],\n",
       "        [255, 205, 143],\n",
       "        [255, 206, 139],\n",
       "        ...,\n",
       "        [243, 206, 148],\n",
       "        [237, 208, 163],\n",
       "        [193, 165, 130]],\n",
       "\n",
       "       [[254, 204, 144],\n",
       "        [255, 205, 142],\n",
       "        [255, 206, 139],\n",
       "        ...,\n",
       "        [245, 211, 157],\n",
       "        [216, 190, 153],\n",
       "        [ 68,  44,  20]]], dtype=uint8)"
      ]
     },
     "execution_count": 95,
     "metadata": {},
     "output_type": "execute_result"
    }
   ],
   "source": [
    "img[41:60,114:145]"
   ]
  },
  {
   "cell_type": "code",
   "execution_count": 96,
   "id": "46e4ac06",
   "metadata": {},
   "outputs": [],
   "source": [
    "cv2.imshow(\"wh\",im1[41:60,114:145])\n",
    "cv2.waitKey(10000)\n",
    "cv2.destroyAllWindows()"
   ]
  },
  {
   "cell_type": "code",
   "execution_count": 56,
   "id": "7ba9d390",
   "metadata": {},
   "outputs": [
    {
     "data": {
      "text/plain": [
       "(238, 212, 3)"
      ]
     },
     "execution_count": 56,
     "metadata": {},
     "output_type": "execute_result"
    }
   ],
   "source": [
    "img.shape"
   ]
  },
  {
   "cell_type": "code",
   "execution_count": 57,
   "id": "ccdd37ca",
   "metadata": {},
   "outputs": [],
   "source": [
    "b,g,r=cv2.split(img)"
   ]
  },
  {
   "cell_type": "code",
   "execution_count": 58,
   "id": "fd030eaf",
   "metadata": {},
   "outputs": [
    {
     "data": {
      "text/plain": [
       "array([[252, 252, 252, ..., 252, 252, 252],\n",
       "       [252, 252, 252, ..., 252, 252, 252],\n",
       "       [252, 252, 252, ..., 252, 252, 252],\n",
       "       ...,\n",
       "       [252, 252, 252, ..., 252, 252, 252],\n",
       "       [252, 252, 252, ..., 252, 252, 252],\n",
       "       [252, 252, 252, ..., 252, 252, 252]], dtype=uint8)"
      ]
     },
     "execution_count": 58,
     "metadata": {},
     "output_type": "execute_result"
    }
   ],
   "source": [
    "b"
   ]
  },
  {
   "cell_type": "code",
   "execution_count": 59,
   "id": "e1ff212c",
   "metadata": {},
   "outputs": [
    {
     "data": {
      "text/plain": [
       "array([[207, 207, 207, ..., 207, 207, 207],\n",
       "       [207, 207, 207, ..., 207, 207, 207],\n",
       "       [207, 207, 207, ..., 207, 207, 207],\n",
       "       ...,\n",
       "       [207, 207, 207, ..., 207, 207, 207],\n",
       "       [207, 207, 207, ..., 207, 207, 207],\n",
       "       [207, 207, 207, ..., 207, 207, 207]], dtype=uint8)"
      ]
     },
     "execution_count": 59,
     "metadata": {},
     "output_type": "execute_result"
    }
   ],
   "source": [
    "g"
   ]
  },
  {
   "cell_type": "code",
   "execution_count": 60,
   "id": "88c88f4c",
   "metadata": {},
   "outputs": [
    {
     "data": {
      "text/plain": [
       "array([[140, 140, 140, ..., 140, 140, 140],\n",
       "       [140, 140, 140, ..., 140, 140, 140],\n",
       "       [140, 140, 140, ..., 140, 140, 140],\n",
       "       ...,\n",
       "       [140, 140, 140, ..., 140, 140, 140],\n",
       "       [140, 140, 140, ..., 140, 140, 140],\n",
       "       [140, 140, 140, ..., 140, 140, 140]], dtype=uint8)"
      ]
     },
     "execution_count": 60,
     "metadata": {},
     "output_type": "execute_result"
    }
   ],
   "source": [
    "r"
   ]
  },
  {
   "cell_type": "code",
   "execution_count": 62,
   "id": "be144766",
   "metadata": {},
   "outputs": [],
   "source": [
    "cv2.imshow(\"whfrwee\",cv2.merge([b,g,r]))\n",
    "cv2.waitKey(10000)\n",
    "cv2.destroyAllWindows()"
   ]
  },
  {
   "cell_type": "code",
   "execution_count": 81,
   "id": "7494c610",
   "metadata": {},
   "outputs": [
    {
     "data": {
      "text/plain": [
       "(238, 212, 3)"
      ]
     },
     "execution_count": 81,
     "metadata": {},
     "output_type": "execute_result"
    }
   ],
   "source": [
    "img.shape"
   ]
  },
  {
   "cell_type": "code",
   "execution_count": 73,
   "id": "d9fb10e7",
   "metadata": {},
   "outputs": [],
   "source": [
    "b,g,r=cv2.split(img)"
   ]
  },
  {
   "cell_type": "code",
   "execution_count": 87,
   "id": "b700e4cd",
   "metadata": {},
   "outputs": [
    {
     "data": {
      "text/plain": [
       "array([[0, 0, 0, ..., 0, 0, 0],\n",
       "       [0, 0, 0, ..., 0, 0, 0],\n",
       "       [0, 0, 0, ..., 0, 0, 0],\n",
       "       ...,\n",
       "       [0, 0, 0, ..., 0, 0, 0],\n",
       "       [0, 0, 0, ..., 0, 0, 0],\n",
       "       [0, 0, 0, ..., 0, 0, 0]], dtype=uint8)"
      ]
     },
     "execution_count": 87,
     "metadata": {},
     "output_type": "execute_result"
    }
   ],
   "source": [
    "a=np.full(img.shape[0:2],0,dtype=np.uint8)\n",
    "a"
   ]
  },
  {
   "cell_type": "code",
   "execution_count": 88,
   "id": "66345a79",
   "metadata": {},
   "outputs": [
    {
     "data": {
      "text/plain": [
       "(238, 212)"
      ]
     },
     "execution_count": 88,
     "metadata": {},
     "output_type": "execute_result"
    }
   ],
   "source": [
    "a.shape"
   ]
  },
  {
   "cell_type": "code",
   "execution_count": 90,
   "id": "eb391c96",
   "metadata": {},
   "outputs": [],
   "source": [
    "cv2.imshow(\"whfrwe\",cv2.merge([a,g,a]))\n",
    "cv2.waitKey(10000)\n",
    "cv2.destroyAllWindows()"
   ]
  },
  {
   "cell_type": "code",
   "execution_count": 91,
   "id": "0934c050",
   "metadata": {},
   "outputs": [],
   "source": [
    "cv2.imshow(\"whfrwe\",cv2.merge([a,g+100,a]))\n",
    "cv2.waitKey(10000)\n",
    "cv2.destroyAllWindows()"
   ]
  },
  {
   "cell_type": "code",
   "execution_count": 92,
   "id": "da11d072",
   "metadata": {},
   "outputs": [],
   "source": [
    "cv2.imshow(\"whfrwe\",cv2.merge([b*0,g*0,r]))  # only red color\n",
    "cv2.waitKey(10000)\n",
    "cv2.destroyAllWindows()"
   ]
  },
  {
   "cell_type": "code",
   "execution_count": null,
   "id": "06ad0ed9",
   "metadata": {},
   "outputs": [],
   "source": []
  }
 ],
 "metadata": {
  "kernelspec": {
   "display_name": "Python 3 (ipykernel)",
   "language": "python",
   "name": "python3"
  },
  "language_info": {
   "codemirror_mode": {
    "name": "ipython",
    "version": 3
   },
   "file_extension": ".py",
   "mimetype": "text/x-python",
   "name": "python",
   "nbconvert_exporter": "python",
   "pygments_lexer": "ipython3",
   "version": "3.9.13"
  }
 },
 "nbformat": 4,
 "nbformat_minor": 5
}
